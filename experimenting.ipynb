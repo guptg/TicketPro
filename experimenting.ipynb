{
 "cells": [
  {
   "cell_type": "markdown",
   "metadata": {},
   "source": [
    "# Ticket categorization"
   ]
  },
  {
   "cell_type": "code",
   "execution_count": 6,
   "metadata": {},
   "outputs": [],
   "source": [
    "# Local \n",
    "import random\n",
    "\n",
    "# Third party\n",
    "import numpy as np \n",
    "import matplotlib.pyplot as plt\n",
    "import pandas as pd\n",
    "\n",
    "# Tensorflow\n",
    "import tensorflow as tf\n",
    "from tensorflow.keras.utils import to_categorical\n",
    "from tensorflow.keras.preprocessing.text import Tokenizer\n",
    "from tensorflow.keras.preprocessing.sequence import pad_sequences"
   ]
  },
  {
   "cell_type": "code",
   "execution_count": 17,
   "metadata": {},
   "outputs": [],
   "source": [
    "# Constants\n",
    "TRAIN_DATA_PATH = \"/home/ggupta/TicketPro/data/training_data.csv\"\n",
    "VALIDATION_DATA_PATH = \"/home/ggupta/TicketPro/data/validation_data.csv\"\n",
    "MODEL_DIR_PATH = \"/home/ggupta/TicketPro/models/\"\n",
    "LABELS_KEY = {\"Software\": 0,\n",
    "            \"Network\": 1,\n",
    "            \"Hardware\": 2}\n",
    "VOCAB_SIZE = 2000\n",
    "OOV_TOKEN = \"<OOV>\"\n",
    "MAX_LENGTH=13\n",
    "TRUNC_TYPE=\"post\"\n",
    "EMBEDDING_DIM = 16\n",
    "NUM_EPOCHS=10"
   ]
  },
  {
   "cell_type": "markdown",
   "metadata": {},
   "source": [
    "### Data preprocessing"
   ]
  },
  {
   "cell_type": "code",
   "execution_count": 8,
   "metadata": {},
   "outputs": [],
   "source": [
    "def preprocess_data(data_path: str, label_key: dict):\n",
    "    \"\"\" Makes sentences from ticket dataframes using relevant information for categorization.\n",
    "    Shuffles the sentences. One-hot encodes each label for the sentence. \n",
    "\n",
    "    Args:\n",
    "        data_path (str): path to dataframe csv\n",
    "        label_key (dict): label mapping \n",
    "\n",
    "    Returns:\n",
    "        sentences: list of strings\n",
    "        labels: list of arrays \n",
    "    \"\"\"\n",
    "\n",
    "    data_df = pd.read_csv(data_path)\n",
    "    brief_descriptions = data_df[\"Brief description\"].tolist()\n",
    "    subjects = data_df[\"Subject\"].tolist()\n",
    "    sentences = [x + \": \" + y for x, y in zip(subjects, brief_descriptions)]\n",
    "    labels = data_df[\"Category\"].tolist()\n",
    "    labels = [label_key[x] for x in labels]\n",
    "    indices= list(range(len(sentences)))\n",
    "    random.shuffle(indices)\n",
    "    sentences = [sentences[i] for i in indices]\n",
    "    labels = [labels[i] for i in indices]\n",
    "    labels = to_categorical(labels, num_classes=len(label_key))\n",
    "\n",
    "    return sentences, labels"
   ]
  },
  {
   "cell_type": "code",
   "execution_count": 9,
   "metadata": {},
   "outputs": [],
   "source": [
    "# Get data and labels into lists\n",
    "training_sentences, training_labels = preprocess_data(TRAIN_DATA_PATH, LABELS_KEY)\n",
    "validation_sentences, validation_labels = preprocess_data(VALIDATION_DATA_PATH, LABELS_KEY)\n",
    "\n",
    "# Tokenization\n",
    "tokenizer = Tokenizer(num_words=VOCAB_SIZE, oov_token=OOV_TOKEN)\n",
    "tokenizer.fit_on_texts(training_sentences)\n",
    "\n",
    "training_sequences=tokenizer.texts_to_sequences(training_sentences)\n",
    "training_sequences=pad_sequences(training_sequences,maxlen=MAX_LENGTH, truncating=TRUNC_TYPE)\n",
    "\n",
    "validation_sequences=tokenizer.texts_to_sequences(validation_sentences)\n",
    "validation_sequences=pad_sequences(validation_sequences,maxlen=MAX_LENGTH, truncating=TRUNC_TYPE)\n"
   ]
  },
  {
   "cell_type": "markdown",
   "metadata": {},
   "source": [
    "### Building the model"
   ]
  },
  {
   "cell_type": "code",
   "execution_count": 19,
   "metadata": {},
   "outputs": [
    {
     "name": "stdout",
     "output_type": "stream",
     "text": [
      "Model: \"sequential_1\"\n",
      "_________________________________________________________________\n",
      " Layer (type)                Output Shape              Param #   \n",
      "=================================================================\n",
      " embedding_1 (Embedding)     (None, 13, 16)            32000     \n",
      "                                                                 \n",
      " flatten_1 (Flatten)         (None, 208)               0         \n",
      "                                                                 \n",
      " dense_2 (Dense)             (None, 6)                 1254      \n",
      "                                                                 \n",
      " dense_3 (Dense)             (None, 3)                 21        \n",
      "                                                                 \n",
      "=================================================================\n",
      "Total params: 33,275\n",
      "Trainable params: 33,275\n",
      "Non-trainable params: 0\n",
      "_________________________________________________________________\n"
     ]
    }
   ],
   "source": [
    "# Build the model\n",
    "model = tf.keras.Sequential([\n",
    "    tf.keras.layers.Embedding(VOCAB_SIZE, EMBEDDING_DIM, input_length=training_sequences.shape[1]),\n",
    "    tf.keras.layers.Flatten(),\n",
    "    tf.keras.layers.Dense(6, activation='relu'),\n",
    "    tf.keras.layers.Dense(3, activation='softmax')\n",
    "])\n",
    "\n",
    "# Setup the training parameters\n",
    "model.compile(loss='categorical_crossentropy',optimizer='adam',metrics=['accuracy'])\n",
    "\n",
    "# Print the model summary\n",
    "model.summary()"
   ]
  },
  {
   "cell_type": "code",
   "execution_count": 20,
   "metadata": {},
   "outputs": [
    {
     "name": "stdout",
     "output_type": "stream",
     "text": [
      "Epoch 1/10\n",
      "5/5 [==============================] - 1s 69ms/step - loss: 1.1037 - accuracy: 0.2847 - val_loss: 1.0936 - val_accuracy: 0.3429\n",
      "Epoch 2/10\n",
      "5/5 [==============================] - 0s 16ms/step - loss: 1.0902 - accuracy: 0.4891 - val_loss: 1.0942 - val_accuracy: 0.4000\n",
      "Epoch 3/10\n",
      "5/5 [==============================] - 0s 16ms/step - loss: 1.0798 - accuracy: 0.5912 - val_loss: 1.0959 - val_accuracy: 0.3429\n",
      "Epoch 4/10\n",
      "5/5 [==============================] - 0s 17ms/step - loss: 1.0687 - accuracy: 0.7007 - val_loss: 1.0974 - val_accuracy: 0.3429\n",
      "Epoch 5/10\n",
      "5/5 [==============================] - 0s 16ms/step - loss: 1.0562 - accuracy: 0.7591 - val_loss: 1.0979 - val_accuracy: 0.3429\n",
      "Epoch 6/10\n",
      "5/5 [==============================] - 0s 17ms/step - loss: 1.0416 - accuracy: 0.8394 - val_loss: 1.0977 - val_accuracy: 0.3429\n",
      "Epoch 7/10\n",
      "5/5 [==============================] - 0s 16ms/step - loss: 1.0251 - accuracy: 0.8540 - val_loss: 1.0975 - val_accuracy: 0.3714\n",
      "Epoch 8/10\n",
      "5/5 [==============================] - 0s 16ms/step - loss: 1.0055 - accuracy: 0.8905 - val_loss: 1.0963 - val_accuracy: 0.4000\n",
      "Epoch 9/10\n",
      "5/5 [==============================] - 0s 15ms/step - loss: 0.9838 - accuracy: 0.9197 - val_loss: 1.0963 - val_accuracy: 0.3143\n",
      "Epoch 10/10\n",
      "5/5 [==============================] - 0s 16ms/step - loss: 0.9581 - accuracy: 0.9270 - val_loss: 1.0960 - val_accuracy: 0.3429\n"
     ]
    }
   ],
   "source": [
    "\n",
    "# Train the model\n",
    "history = model.fit(training_sequences, \n",
    "                        training_labels, \n",
    "                        epochs=NUM_EPOCHS, \n",
    "                        validation_data=(validation_sequences, validation_labels))"
   ]
  },
  {
   "cell_type": "markdown",
   "metadata": {},
   "source": [
    "### Visualization"
   ]
  },
  {
   "cell_type": "code",
   "execution_count": 21,
   "metadata": {},
   "outputs": [
    {
     "data": {
      "image/png": "[encoded data removed]",
      "text/plain": [
       "<Figure size 640x480 with 1 Axes>"
      ]
     },
     "metadata": {},
     "output_type": "display_data"
    },
    {
     "data": {
      "text/plain": [
       "<Figure size 640x480 with 0 Axes>"
      ]
     },
     "metadata": {},
     "output_type": "display_data"
    }
   ],
   "source": [
    "acc = history.history['accuracy']\n",
    "val_acc = history.history['val_accuracy']\n",
    "loss = history.history['loss']\n",
    "val_loss = history.history['val_loss']\n",
    "\n",
    "epochs = range(len(acc))\n",
    "\n",
    "plt.plot(epochs, acc, 'r', label='Training accuracy')\n",
    "plt.plot(epochs, val_acc, 'b', label='Validation accuracy')\n",
    "plt.title('Training and validation accuracy')\n",
    "plt.legend(loc=0)\n",
    "plt.figure()\n",
    "\n",
    "plt.show()"
   ]
  }
 ],
 "metadata": {
  "kernelspec": {
   "display_name": "DataScienceEnv",
   "language": "python",
   "name": "python3"
  },
  "language_info": {
   "codemirror_mode": {
    "name": "ipython",
    "version": 3
   },
   "file_extension": ".py",
   "mimetype": "text/x-python",
   "name": "python",
   "nbconvert_exporter": "python",
   "pygments_lexer": "ipython3",
   "version": "3.10.6"
  },
  "orig_nbformat": 4
 },
 "nbformat": 4,
 "nbformat_minor": 2
}

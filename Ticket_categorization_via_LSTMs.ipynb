{
 "cells": [
  {
   "cell_type": "markdown",
   "metadata": {},
   "source": [
    "# Ticket categorization LSTMs"
   ]
  },
  {
   "cell_type": "code",
   "execution_count": 214,
   "metadata": {},
   "outputs": [],
   "source": [
    "# Local \n",
    "import random\n",
    "\n",
    "# Third party\n",
    "import numpy as np \n",
    "import matplotlib.pyplot as plt\n",
    "import pandas as pd\n",
    "\n",
    "# Tensorflow\n",
    "import tensorflow as tf\n",
    "from tensorflow.keras.utils import to_categorical\n",
    "from tensorflow.keras.preprocessing.text import Tokenizer\n",
    "from tensorflow.keras.preprocessing.sequence import pad_sequences"
   ]
  },
  {
   "cell_type": "code",
   "execution_count": 215,
   "metadata": {},
   "outputs": [],
   "source": [
    "# Constants\n",
    "TRAIN_DATA_PATH = \"/home/ggupta/TicketPro/training_data.csv\"\n",
    "VALIDATION_DATA_PATH = \"/home/ggupta/TicketPro/validation_data.csv\"\n",
    "LABELS_KEY = {\"Software\": 0,\n",
    "              \"Network\": 1,\n",
    "              \"Hardware\": 2}\n",
    "TRAINING_PROPORTION = 0.8\n",
    "VOCAB_SIZE = 2000\n",
    "OOV_TOKEN = \"<OOV>\"\n",
    "EMBEDDING_DIM = 16\n",
    "PADDED = 10\n",
    "NUM_EPOCHS=20\n",
    "MAX_LENGTH=13\n",
    "TRUNC_TYPE=\"post\""
   ]
  },
  {
   "cell_type": "markdown",
   "metadata": {},
   "source": [
    "### Data preprocessing"
   ]
  },
  {
   "cell_type": "code",
   "execution_count": 217,
   "metadata": {},
   "outputs": [],
   "source": [
    "# Get data and labels into lists\n",
    "data_df = pd.read_csv(TRAIN_DATA_PATH)\n",
    "brief_descriptions = data_df[\"Brief description\"].tolist()\n",
    "subjects = data_df[\"Subject\"].tolist()\n",
    "sentences = [x + \": \" + y for x, y in zip(subjects, brief_descriptions)]\n",
    "labels = data_df[\"Category\"].tolist()\n",
    "labels = [LABELS_KEY[x] for x in labels]\n",
    "indices= list(range(len(sentences)))\n",
    "random.shuffle(indices)\n",
    "train_sentences = [sentences[i] for i in indices]\n",
    "labels = [labels[i] for i in indices]\n",
    "train_labels = to_categorical(labels, num_classes=len(LABELS_KEY))\n",
    "\n",
    "val_data_df = pd.read_csv(VALIDATION_DATA_PATH)\n",
    "val_brief_descriptions = val_data_df[\"Brief description\"].tolist()\n",
    "val_subjects = val_data_df[\"Subject\"].tolist()\n",
    "val_sentences = [x + \": \" + y for x, y in zip(val_subjects, val_brief_descriptions)]\n",
    "val_labels = val_data_df[\"Category\"].tolist()\n",
    "val_labels = [LABELS_KEY[x] for x in val_labels]\n",
    "indices= list(range(len(val_sentences)))\n",
    "random.shuffle(indices)\n",
    "test_sentences = [val_sentences[i] for i in indices]\n",
    "val_labels = [val_labels[i] for i in indices]\n",
    "test_labels = to_categorical(val_labels, num_classes=len(LABELS_KEY))\n",
    "\n",
    "\n",
    "# Tokenization\n",
    "tokenizer = Tokenizer(num_words=VOCAB_SIZE, oov_token=OOV_TOKEN)\n",
    "tokenizer.fit_on_texts(train_sentences)\n",
    "word_index=tokenizer.word_index\n",
    "\n",
    "train_sequences=tokenizer.texts_to_sequences(train_sentences)\n",
    "train_padded=pad_sequences(train_sequences,maxlen=MAX_LENGTH, truncating=TRUNC_TYPE)\n",
    "\n",
    "test_sequences=tokenizer.texts_to_sequences(test_sentences)\n",
    "test_padded=pad_sequences(test_sequences,maxlen=MAX_LENGTH, truncating=TRUNC_TYPE)\n"
   ]
  },
  {
   "cell_type": "code",
   "execution_count": 218,
   "metadata": {},
   "outputs": [
    {
     "name": "stdout",
     "output_type": "stream",
     "text": [
      "Model: \"sequential_18\"\n",
      "_________________________________________________________________\n",
      " Layer (type)                Output Shape              Param #   \n",
      "=================================================================\n",
      " embedding_18 (Embedding)    (None, 13, 16)            32000     \n",
      "                                                                 \n",
      " flatten_18 (Flatten)        (None, 208)               0         \n",
      "                                                                 \n",
      " dense_36 (Dense)            (None, 6)                 1254      \n",
      "                                                                 \n",
      " dense_37 (Dense)            (None, 3)                 21        \n",
      "                                                                 \n",
      "=================================================================\n",
      "Total params: 33,275\n",
      "Trainable params: 33,275\n",
      "Non-trainable params: 0\n",
      "_________________________________________________________________\n"
     ]
    }
   ],
   "source": [
    "# Build the model\n",
    "model = tf.keras.Sequential([\n",
    "    tf.keras.layers.Embedding(VOCAB_SIZE, EMBEDDING_DIM, input_length=train_padded.shape[1]),\n",
    "    tf.keras.layers.Flatten(),\n",
    "    tf.keras.layers.Dense(6, activation='relu'),\n",
    "    tf.keras.layers.Dense(3, activation='softmax')\n",
    "])\n",
    "\n",
    "# Setup the training parameters\n",
    "model.compile(loss='categorical_crossentropy',optimizer='adam',metrics=['accuracy'])\n",
    "\n",
    "# Print the model summary\n",
    "model.summary()"
   ]
  },
  {
   "cell_type": "code",
   "execution_count": 219,
   "metadata": {},
   "outputs": [
    {
     "name": "stdout",
     "output_type": "stream",
     "text": [
      "Epoch 1/20\n",
      "5/5 [==============================] - 1s 52ms/step - loss: 1.1089 - accuracy: 0.2336 - val_loss: 1.0792 - val_accuracy: 0.6571\n",
      "Epoch 2/20\n",
      "5/5 [==============================] - 0s 12ms/step - loss: 1.0915 - accuracy: 0.4234 - val_loss: 1.0945 - val_accuracy: 0.4571\n",
      "Epoch 3/20\n",
      "5/5 [==============================] - 0s 11ms/step - loss: 1.0820 - accuracy: 0.4818 - val_loss: 1.1077 - val_accuracy: 0.2000\n",
      "Epoch 4/20\n",
      "5/5 [==============================] - 0s 10ms/step - loss: 1.0734 - accuracy: 0.5109 - val_loss: 1.1180 - val_accuracy: 0.1429\n",
      "Epoch 5/20\n",
      "5/5 [==============================] - 0s 12ms/step - loss: 1.0644 - accuracy: 0.5109 - val_loss: 1.1262 - val_accuracy: 0.0286\n",
      "Epoch 6/20\n",
      "5/5 [==============================] - 0s 10ms/step - loss: 1.0540 - accuracy: 0.5328 - val_loss: 1.1344 - val_accuracy: 0.0286\n",
      "Epoch 7/20\n",
      "5/5 [==============================] - 0s 11ms/step - loss: 1.0432 - accuracy: 0.5474 - val_loss: 1.1411 - val_accuracy: 0.0000e+00\n",
      "Epoch 8/20\n",
      "5/5 [==============================] - 0s 13ms/step - loss: 1.0317 - accuracy: 0.5693 - val_loss: 1.1495 - val_accuracy: 0.0000e+00\n",
      "Epoch 9/20\n",
      "5/5 [==============================] - 0s 10ms/step - loss: 1.0189 - accuracy: 0.5985 - val_loss: 1.1569 - val_accuracy: 0.0000e+00\n",
      "Epoch 10/20\n",
      "5/5 [==============================] - 0s 10ms/step - loss: 1.0039 - accuracy: 0.6058 - val_loss: 1.1621 - val_accuracy: 0.0000e+00\n",
      "Epoch 11/20\n",
      "5/5 [==============================] - 0s 10ms/step - loss: 0.9869 - accuracy: 0.6934 - val_loss: 1.1678 - val_accuracy: 0.0286\n",
      "Epoch 12/20\n",
      "5/5 [==============================] - 0s 15ms/step - loss: 0.9682 - accuracy: 0.7372 - val_loss: 1.1750 - val_accuracy: 0.0286\n",
      "Epoch 13/20\n",
      "5/5 [==============================] - 0s 12ms/step - loss: 0.9464 - accuracy: 0.7956 - val_loss: 1.1725 - val_accuracy: 0.0857\n",
      "Epoch 14/20\n",
      "5/5 [==============================] - 0s 17ms/step - loss: 0.9215 - accuracy: 0.8686 - val_loss: 1.1744 - val_accuracy: 0.0857\n",
      "Epoch 15/20\n",
      "5/5 [==============================] - 0s 10ms/step - loss: 0.8944 - accuracy: 0.8978 - val_loss: 1.1820 - val_accuracy: 0.0857\n",
      "Epoch 16/20\n",
      "5/5 [==============================] - 0s 10ms/step - loss: 0.8648 - accuracy: 0.9197 - val_loss: 1.1876 - val_accuracy: 0.0857\n",
      "Epoch 17/20\n",
      "5/5 [==============================] - 0s 14ms/step - loss: 0.8334 - accuracy: 0.9562 - val_loss: 1.1898 - val_accuracy: 0.0857\n",
      "Epoch 18/20\n",
      "5/5 [==============================] - 0s 9ms/step - loss: 0.7988 - accuracy: 0.9635 - val_loss: 1.1984 - val_accuracy: 0.1143\n",
      "Epoch 19/20\n",
      "5/5 [==============================] - 0s 10ms/step - loss: 0.7620 - accuracy: 0.9781 - val_loss: 1.2043 - val_accuracy: 0.1143\n",
      "Epoch 20/20\n",
      "5/5 [==============================] - 0s 12ms/step - loss: 0.7239 - accuracy: 0.9781 - val_loss: 1.2090 - val_accuracy: 0.1143\n"
     ]
    }
   ],
   "source": [
    "\n",
    "# Train the model\n",
    "history = model.fit(train_padded, train_labels, epochs=NUM_EPOCHS, validation_data=(test_padded, test_labels))"
   ]
  },
  {
   "cell_type": "markdown",
   "metadata": {},
   "source": [
    "### Visualization"
   ]
  },
  {
   "cell_type": "code",
   "execution_count": 220,
   "metadata": {},
   "outputs": [
    {
     "data": {
      "image/png": "[encoded data removed]",
      "text/plain": [
       "<Figure size 640x480 with 1 Axes>"
      ]
     },
     "metadata": {},
     "output_type": "display_data"
    },
    {
     "data": {
      "text/plain": [
       "<Figure size 640x480 with 0 Axes>"
      ]
     },
     "metadata": {},
     "output_type": "display_data"
    }
   ],
   "source": [
    "acc = history.history['accuracy']\n",
    "val_acc = history.history['val_accuracy']\n",
    "loss = history.history['loss']\n",
    "val_loss = history.history['val_loss']\n",
    "\n",
    "epochs = range(len(acc))\n",
    "\n",
    "plt.plot(epochs, acc, 'r', label='Training accuracy')\n",
    "plt.plot(epochs, val_acc, 'b', label='Validation accuracy')\n",
    "plt.title('Training and validation accuracy')\n",
    "plt.legend(loc=0)\n",
    "plt.figure()\n",
    "\n",
    "plt.show()"
   ]
  }
 ],
 "metadata": {
  "kernelspec": {
   "display_name": "DataScienceEnv",
   "language": "python",
   "name": "python3"
  },
  "language_info": {
   "codemirror_mode": {
    "name": "ipython",
    "version": 3
   },
   "file_extension": ".py",
   "mimetype": "text/x-python",
   "name": "python",
   "nbconvert_exporter": "python",
   "pygments_lexer": "ipython3",
   "version": "3.10.6"
  },
  "orig_nbformat": 4
 },
 "nbformat": 4,
 "nbformat_minor": 2
}

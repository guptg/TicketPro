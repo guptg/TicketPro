{
 "cells": [
  {
   "cell_type": "markdown",
   "metadata": {},
   "source": [
    "# Ticket categorization LSTMs"
   ]
  },
  {
   "cell_type": "code",
   "execution_count": 201,
   "metadata": {},
   "outputs": [],
   "source": [
    "# Local \n",
    "import random\n",
    "\n",
    "# Third party\n",
    "import numpy as np \n",
    "import matplotlib.pyplot as plt\n",
    "import pandas as pd\n",
    "\n",
    "# Tensorflow\n",
    "import tensorflow as tf\n",
    "from tensorflow.keras.utils import to_categorical\n",
    "from tensorflow.keras.preprocessing.text import Tokenizer\n",
    "from tensorflow.keras.preprocessing.sequence import pad_sequences"
   ]
  },
  {
   "cell_type": "code",
   "execution_count": 202,
   "metadata": {},
   "outputs": [],
   "source": [
    "# Constants\n",
    "DATA_PATH = \"/home/ggupta/TicketPro/training_data.csv\"\n",
    "LABELS_KEY = {\"Software\": 0,\n",
    "              \"Network\": 1,\n",
    "              \"Hardware\": 2}\n",
    "TRAINING_PROPORTION = 0.8\n",
    "VOCAB_SIZE = 2000\n",
    "OOV_TOKEN = \"<OOV>\"\n",
    "EMBEDDING_DIM = 16\n",
    "PADDED = 10\n",
    "NUM_EPOCHS=20\n",
    "MAX_LENGTH=13\n",
    "TRUNC_TYPE=\"post\""
   ]
  },
  {
   "cell_type": "markdown",
   "metadata": {},
   "source": [
    "### Data preprocessing"
   ]
  },
  {
   "cell_type": "code",
   "execution_count": 203,
   "metadata": {},
   "outputs": [],
   "source": [
    "# Get data and labels into lists\n",
    "data_df = pd.read_csv(DATA_PATH)\n",
    "brief_descriptions = data_df[\"Brief description\"].tolist()\n",
    "subjects = data_df[\"Subject\"].tolist()\n",
    "sentences = [x + \": \" + y for x, y in zip(subjects, brief_descriptions)]\n",
    "labels = data_df[\"Category\"].tolist()\n",
    "labels = [LABELS_KEY[x] for x in labels]\n",
    "\n",
    "# Shuffle and split data \n",
    "indices= list(range(len(sentences)))\n",
    "random.shuffle(indices)\n",
    "sentences = [sentences[i] for i in indices]\n",
    "labels = [labels[i] for i in indices]\n",
    "\n",
    "training_size = int(len(sentences) * TRAINING_PROPORTION)\n",
    "train_sentences = sentences[:training_size]\n",
    "train_labels = labels[:training_size]\n",
    "train_labels = to_categorical(train_labels, num_classes=len(LABELS_KEY))\n",
    "test_sentences = sentences[training_size:]\n",
    "test_labels = labels[training_size:]\n",
    "test_labels = to_categorical(test_labels, num_classes=len(LABELS_KEY))\n",
    "\n",
    "# Tokenization\n",
    "tokenizer = Tokenizer(num_words=VOCAB_SIZE, oov_token=OOV_TOKEN)\n",
    "tokenizer.fit_on_texts(train_sentences)\n",
    "word_index=tokenizer.word_index\n",
    "\n",
    "train_sequences=tokenizer.texts_to_sequences(train_sentences)\n",
    "train_padded=pad_sequences(train_sequences,maxlen=MAX_LENGTH, truncating=TRUNC_TYPE)\n",
    "\n",
    "test_sequences=tokenizer.texts_to_sequences(test_sentences)\n",
    "test_padded=pad_sequences(test_sequences,maxlen=MAX_LENGTH, truncating=TRUNC_TYPE)\n"
   ]
  },
  {
   "cell_type": "code",
   "execution_count": 204,
   "metadata": {},
   "outputs": [
    {
     "name": "stdout",
     "output_type": "stream",
     "text": [
      "Model: \"sequential_17\"\n",
      "_________________________________________________________________\n",
      " Layer (type)                Output Shape              Param #   \n",
      "=================================================================\n",
      " embedding_17 (Embedding)    (None, 13, 16)            32000     \n",
      "                                                                 \n",
      " flatten_17 (Flatten)        (None, 208)               0         \n",
      "                                                                 \n",
      " dense_34 (Dense)            (None, 6)                 1254      \n",
      "                                                                 \n",
      " dense_35 (Dense)            (None, 3)                 21        \n",
      "                                                                 \n",
      "=================================================================\n",
      "Total params: 33,275\n",
      "Trainable params: 33,275\n",
      "Non-trainable params: 0\n",
      "_________________________________________________________________\n"
     ]
    }
   ],
   "source": [
    "# Build the model\n",
    "model = tf.keras.Sequential([\n",
    "    tf.keras.layers.Embedding(VOCAB_SIZE, EMBEDDING_DIM, input_length=train_padded.shape[1]),\n",
    "    tf.keras.layers.Flatten(),\n",
    "    tf.keras.layers.Dense(6, activation='relu'),\n",
    "    tf.keras.layers.Dense(3, activation='softmax')\n",
    "])\n",
    "\n",
    "# Setup the training parameters\n",
    "model.compile(loss='categorical_crossentropy',optimizer='adam',metrics=['accuracy'])\n",
    "\n",
    "# Print the model summary\n",
    "model.summary()"
   ]
  },
  {
   "cell_type": "code",
   "execution_count": 205,
   "metadata": {},
   "outputs": [
    {
     "name": "stdout",
     "output_type": "stream",
     "text": [
      "Epoch 1/20\n",
      "5/5 [==============================] - 1s 81ms/step - loss: 1.0917 - accuracy: 0.4161 - val_loss: 1.0927 - val_accuracy: 0.4286\n",
      "Epoch 2/20\n",
      "5/5 [==============================] - 0s 15ms/step - loss: 1.0722 - accuracy: 0.6058 - val_loss: 1.0909 - val_accuracy: 0.3714\n",
      "Epoch 3/20\n",
      "5/5 [==============================] - 0s 14ms/step - loss: 1.0537 - accuracy: 0.6934 - val_loss: 1.0886 - val_accuracy: 0.4000\n",
      "Epoch 4/20\n",
      "5/5 [==============================] - 0s 16ms/step - loss: 1.0344 - accuracy: 0.7226 - val_loss: 1.0864 - val_accuracy: 0.3714\n",
      "Epoch 5/20\n",
      "5/5 [==============================] - 0s 15ms/step - loss: 1.0138 - accuracy: 0.7883 - val_loss: 1.0832 - val_accuracy: 0.3714\n",
      "Epoch 6/20\n",
      "5/5 [==============================] - 0s 14ms/step - loss: 0.9902 - accuracy: 0.8102 - val_loss: 1.0798 - val_accuracy: 0.4000\n",
      "Epoch 7/20\n",
      "5/5 [==============================] - 0s 14ms/step - loss: 0.9648 - accuracy: 0.8321 - val_loss: 1.0767 - val_accuracy: 0.3714\n",
      "Epoch 8/20\n",
      "5/5 [==============================] - 0s 13ms/step - loss: 0.9362 - accuracy: 0.8613 - val_loss: 1.0723 - val_accuracy: 0.3714\n",
      "Epoch 9/20\n",
      "5/5 [==============================] - 0s 13ms/step - loss: 0.9040 - accuracy: 0.8978 - val_loss: 1.0661 - val_accuracy: 0.3714\n",
      "Epoch 10/20\n",
      "5/5 [==============================] - 0s 14ms/step - loss: 0.8696 - accuracy: 0.9124 - val_loss: 1.0597 - val_accuracy: 0.3714\n",
      "Epoch 11/20\n",
      "5/5 [==============================] - 0s 14ms/step - loss: 0.8310 - accuracy: 0.9489 - val_loss: 1.0500 - val_accuracy: 0.4571\n",
      "Epoch 12/20\n",
      "5/5 [==============================] - 0s 14ms/step - loss: 0.7903 - accuracy: 0.9635 - val_loss: 1.0393 - val_accuracy: 0.4857\n",
      "Epoch 13/20\n",
      "5/5 [==============================] - 0s 13ms/step - loss: 0.7461 - accuracy: 0.9781 - val_loss: 1.0274 - val_accuracy: 0.5143\n",
      "Epoch 14/20\n",
      "5/5 [==============================] - 0s 14ms/step - loss: 0.7014 - accuracy: 0.9854 - val_loss: 1.0157 - val_accuracy: 0.5143\n",
      "Epoch 15/20\n",
      "5/5 [==============================] - 0s 14ms/step - loss: 0.6557 - accuracy: 0.9854 - val_loss: 1.0047 - val_accuracy: 0.5143\n",
      "Epoch 16/20\n",
      "5/5 [==============================] - 0s 13ms/step - loss: 0.6086 - accuracy: 0.9927 - val_loss: 0.9924 - val_accuracy: 0.5429\n",
      "Epoch 17/20\n",
      "5/5 [==============================] - 0s 13ms/step - loss: 0.5633 - accuracy: 0.9927 - val_loss: 0.9779 - val_accuracy: 0.5429\n",
      "Epoch 18/20\n",
      "5/5 [==============================] - 0s 13ms/step - loss: 0.5174 - accuracy: 1.0000 - val_loss: 0.9638 - val_accuracy: 0.5429\n",
      "Epoch 19/20\n",
      "5/5 [==============================] - 0s 14ms/step - loss: 0.4738 - accuracy: 1.0000 - val_loss: 0.9506 - val_accuracy: 0.5429\n",
      "Epoch 20/20\n",
      "5/5 [==============================] - 0s 15ms/step - loss: 0.4320 - accuracy: 1.0000 - val_loss: 0.9373 - val_accuracy: 0.5429\n"
     ]
    }
   ],
   "source": [
    "\n",
    "# Train the model\n",
    "history = model.fit(train_padded, train_labels, epochs=NUM_EPOCHS, validation_data=(test_padded, test_labels))"
   ]
  },
  {
   "cell_type": "markdown",
   "metadata": {},
   "source": [
    "### Visualization"
   ]
  },
  {
   "cell_type": "code",
   "execution_count": 206,
   "metadata": {},
   "outputs": [
    {
     "data": {
      "image/png": "[encoded data removed]",
      "text/plain": [
       "<Figure size 640x480 with 1 Axes>"
      ]
     },
     "metadata": {},
     "output_type": "display_data"
    },
    {
     "data": {
      "text/plain": [
       "<Figure size 640x480 with 0 Axes>"
      ]
     },
     "metadata": {},
     "output_type": "display_data"
    }
   ],
   "source": [
    "acc = history.history['accuracy']\n",
    "val_acc = history.history['val_accuracy']\n",
    "loss = history.history['loss']\n",
    "val_loss = history.history['val_loss']\n",
    "\n",
    "epochs = range(len(acc))\n",
    "\n",
    "plt.plot(epochs, acc, 'r', label='Training accuracy')\n",
    "plt.plot(epochs, val_acc, 'b', label='Validation accuracy')\n",
    "plt.title('Training and validation accuracy')\n",
    "plt.legend(loc=0)\n",
    "plt.figure()\n",
    "\n",
    "plt.show()"
   ]
  }
 ],
 "metadata": {
  "kernelspec": {
   "display_name": "DataScienceEnv",
   "language": "python",
   "name": "python3"
  },
  "language_info": {
   "codemirror_mode": {
    "name": "ipython",
    "version": 3
   },
   "file_extension": ".py",
   "mimetype": "text/x-python",
   "name": "python",
   "nbconvert_exporter": "python",
   "pygments_lexer": "ipython3",
   "version": "3.10.6"
  },
  "orig_nbformat": 4
 },
 "nbformat": 4,
 "nbformat_minor": 2
}
